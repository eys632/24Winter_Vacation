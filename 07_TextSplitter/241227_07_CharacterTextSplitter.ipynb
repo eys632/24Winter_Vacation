{
  "nbformat": 4,
  "nbformat_minor": 0,
  "metadata": {
    "colab": {
      "provenance": []
    },
    "kernelspec": {
      "name": "python3",
      "display_name": "Python 3"
    },
    "language_info": {
      "name": "python"
    }
  },
  "cells": [
    {
      "cell_type": "markdown",
      "source": [
        "# Character Text Spilitter\n"
      ],
      "metadata": {
        "id": "RdwnZBpypt5U"
      }
    },
    {
      "cell_type": "code",
      "execution_count": null,
      "metadata": {
        "id": "tokevHfMpdsx"
      },
      "outputs": [],
      "source": [
        "# 변환된 텍스트 파일을 불러오기\n",
        "with open(\"/content/drive/MyDrive/24겨울방학/appendix-keywords.txt\", encoding='utf-8') as f:\n",
        "    file = f.read()\n",
        "\n",
        "with open(\"/content/자기소개서(임시).txt\", encoding='utf-8') as f1:\n",
        "    file1 = f1.read()"
      ]
    },
    {
      "cell_type": "code",
      "source": [
        "print(file[:500])\n",
        "print(\"________________________________\\n\")\n",
        "print(file1[0:])"
      ],
      "metadata": {
        "id": "RHiY8PxPrQv4"
      },
      "execution_count": null,
      "outputs": []
    },
    {
      "cell_type": "code",
      "source": [
        "from langchain_text_splitters import CharacterTextSplitter\n",
        "\n",
        "# 텍스트 분리기를 초기화\n",
        "# separator: 텍스트를 나눌 기준이 되는 구분자.\n",
        "# chunk_size: 하나의 텍스트 조각의 최대 길이.\n",
        "# chunk_overlap: 조각 간 겹치는 문자 수.\n",
        "# length_function: 텍스트 길이를 계산하는 함수.\n",
        "\n",
        "text_splitter = CharacterTextSplitter(\n",
        "    separator='\\n\\n',\n",
        "    chunk_size=210,\n",
        "    chunk_overlap=0,\n",
        "    length_function=len\n",
        ")"
      ],
      "metadata": {
        "id": "INlzdXZHs_Vg"
      },
      "execution_count": null,
      "outputs": []
    },
    {
      "cell_type": "code",
      "source": [
        "# 주어진 텍스트 파일을 불러와 문서로 변환합니다\n",
        "texts = text_splitter.create_documents([file])\n",
        "\n",
        "# 첫 번째 텍스트 조각의 길이와 내용을 출력합니다.\n",
        "print(len(texts[0].page_content))\n",
        "print(texts[0])"
      ],
      "metadata": {
        "colab": {
          "base_uri": "https://localhost:8080/"
        },
        "id": "RGxSRehgvRd6",
        "outputId": "58eae514-9303-467d-8ab6-93add9d11f6f"
      },
      "execution_count": null,
      "outputs": [
        {
          "output_type": "stream",
          "name": "stdout",
          "text": [
            "197\n",
            "page_content='Semantic Search\n",
            "\n",
            "정의: 의미론적 검색은 사용자의 질의를 단순한 키워드 매칭을 넘어서 그 의미를 파악하여 관련된 결과를 반환하는 검색 방식입니다.\n",
            "예시: 사용자가 \"태양계 행성\"이라고 검색하면, \"목성\", \"화성\" 등과 같이 관련된 행성에 대한 정보를 반환합니다.\n",
            "연관키워드: 자연어 처리, 검색 알고리즘, 데이터 마이닝\n",
            "\n",
            "Embedding'\n"
          ]
        }
      ]
    },
    {
      "cell_type": "code",
      "source": [
        "# 문서에 메타데이터를 정의하고 문서를 생성합니다.\n",
        "metadatas = [\n",
        "    {\"document\" : 1}, # 첫 번째 문서의 메타데이터\n",
        "    {\"document\" : 2}, # 두 번째 문서의 메타데이터\n",
        "]\n",
        "\n",
        "# 동일한 파일 내용을 두 문서로 생성, 각각 메타데이터 포함\n",
        "documents = text_splitter.create_documents(\n",
        "    [\n",
        "        file, # 입력 텍스트\n",
        "        file1,\n",
        "    ],\n",
        "    metadatas=metadatas # 각 문서에 대한 메타데이터\n",
        ")\n",
        "\n",
        "# 첫 번째 문서의 내용과 메타데이터 출력\n",
        "print(documents[32])"
      ],
      "metadata": {
        "id": "3YTrWtP8wQxD"
      },
      "execution_count": null,
      "outputs": []
    },
    {
      "cell_type": "code",
      "source": [
        "len(documents) # 생성된 문서 총 개수 확인"
      ],
      "metadata": {
        "colab": {
          "base_uri": "https://localhost:8080/"
        },
        "id": "WRwlu0cQzET8",
        "outputId": "0dc9f9ff-6c1e-4b92-ee79-31b180fc7003"
      },
      "execution_count": null,
      "outputs": [
        {
          "output_type": "execute_result",
          "data": {
            "text/plain": [
              "64"
            ]
          },
          "metadata": {},
          "execution_count": 20
        }
      ]
    },
    {
      "cell_type": "code",
      "source": [
        "documents[1].metadata # 두 번째 문서의 메타데이터 확인"
      ],
      "metadata": {
        "colab": {
          "base_uri": "https://localhost:8080/"
        },
        "id": "u7M8s2mmzHYE",
        "outputId": "2db38f2f-5f84-4881-ad92-ad84c3ba3d87"
      },
      "execution_count": null,
      "outputs": [
        {
          "output_type": "execute_result",
          "data": {
            "text/plain": [
              "{'document': 1}"
            ]
          },
          "metadata": {},
          "execution_count": 19
        }
      ]
    },
    {
      "cell_type": "code",
      "source": [
        "# text_splitter를 사용하여 file 텍스트를 분할, 분할된 텍스트의 첫 번째 요소 반환\n",
        "text_splitter.split_text(file)[0]"
      ],
      "metadata": {
        "colab": {
          "base_uri": "https://localhost:8080/",
          "height": 71
        },
        "id": "_44Y-Qh_zHqT",
        "outputId": "bebeeb4d-57c9-485d-986c-8b8db7b12005"
      },
      "execution_count": null,
      "outputs": [
        {
          "output_type": "execute_result",
          "data": {
            "text/plain": [
              "'Semantic Search\\n\\n정의: 의미론적 검색은 사용자의 질의를 단순한 키워드 매칭을 넘어서 그 의미를 파악하여 관련된 결과를 반환하는 검색 방식입니다.\\n예시: 사용자가 \"태양계 행성\"이라고 검색하면, \"목성\", \"화성\" 등과 같이 관련된 행성에 대한 정보를 반환합니다.\\n연관키워드: 자연어 처리, 검색 알고리즘, 데이터 마이닝\\n\\nEmbedding'"
            ],
            "application/vnd.google.colaboratory.intrinsic+json": {
              "type": "string"
            }
          },
          "metadata": {},
          "execution_count": 18
        }
      ]
    }
  ]
}