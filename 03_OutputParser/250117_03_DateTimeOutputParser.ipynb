{
 "cells": [
  {
   "cell_type": "code",
   "execution_count": 1,
   "metadata": {},
   "outputs": [],
   "source": [
    "from dotenv import load_dotenv\n",
    "import os\n",
    "\n",
    "load_dotenv()\n",
    "\n",
    "OPENAI_API_KEY = os.getenv(\"OPENAI_API_KEY\")\n",
    "LANGCHAIN_API_KEY = os.getenv(\"LANGCHAIN_API_KEY\")\n",
    "LANGCHAIN_TRACING_V2 = os.getenv(\"LANGCHAIN_TRACING_V2\")\n",
    "LANGCHAIN_ENDPOINT = os.getenv(\"LANGCHAIN_ENDPOINT\")\n",
    "LANGCHAIN_PROJECT_ID = os.getenv(\"LANGCHAIN_PROJECT_ID\")"
   ]
  },
  {
   "cell_type": "markdown",
   "metadata": {},
   "source": [
    "<table>\n",
    "<thead>\n",
    "<tr>\n",
    "<th>형식 코드</th>\n",
    "<th>설명</th>\n",
    "<th>예시</th>\n",
    "</tr>\n",
    "</thead>\n",
    "<tbody>\n",
    "<tr>\n",
    "<td>%Y</td>\n",
    "<td>4자리 연도</td>\n",
    "<td>2024</td>\n",
    "</tr>\n",
    "<tr>\n",
    "<td>%y</td>\n",
    "<td>2자리 연도</td>\n",
    "<td>24</td>\n",
    "</tr>\n",
    "<tr>\n",
    "<td>%m</td>\n",
    "<td>2자리 월</td>\n",
    "<td>07</td>\n",
    "</tr>\n",
    "<tr>\n",
    "<td>%d</td>\n",
    "<td>2자리 일</td>\n",
    "<td>04</td>\n",
    "</tr>\n",
    "<tr>\n",
    "<td>%H</td>\n",
    "<td>24시간제 시간</td>\n",
    "<td>14</td>\n",
    "</tr>\n",
    "<tr>\n",
    "<td>%I</td>\n",
    "<td>12시간제 시간</td>\n",
    "<td>02</td>\n",
    "</tr>\n",
    "<tr>\n",
    "<td>%p</td>\n",
    "<td>AM 또는 PM</td>\n",
    "<td>PM</td>\n",
    "</tr>\n",
    "<tr>\n",
    "<td>%M</td>\n",
    "<td>2자리 분</td>\n",
    "<td>45</td>\n",
    "</tr>\n",
    "<tr>\n",
    "<td>%S</td>\n",
    "<td>2자리 초</td>\n",
    "<td>08</td>\n",
    "</tr>\n",
    "<tr>\n",
    "<td>%f</td>\n",
    "<td>마이크로초 (6자리)</td>\n",
    "<td>000123</td>\n",
    "</tr>\n",
    "<tr>\n",
    "<td>%z</td>\n",
    "<td>UTC 오프셋</td>\n",
    "<td>+0900</td>\n",
    "</tr>\n",
    "<tr>\n",
    "<td>%Z</td>\n",
    "<td>시간대 이름</td>\n",
    "<td>KST</td>\n",
    "</tr>\n",
    "<tr>\n",
    "<td>%a</td>\n",
    "<td>요일 약어</td>\n",
    "<td>Thu</td>\n",
    "</tr>\n",
    "<tr>\n",
    "<td>%A</td>\n",
    "<td>요일 전체</td>\n",
    "<td>Thursday</td>\n",
    "</tr>\n",
    "<tr>\n",
    "<td>%b</td>\n",
    "<td>월 약어</td>\n",
    "<td>Jul</td>\n",
    "</tr>\n",
    "<tr>\n",
    "<td>%B</td>\n",
    "<td>월 전체</td>\n",
    "<td>July</td>\n",
    "</tr>\n",
    "<tr>\n",
    "<td>%c</td>\n",
    "<td>전체 날짜와 시간</td>\n",
    "<td>Thu Jul  4 14:45:08 2024</td>\n",
    "</tr>\n",
    "<tr>\n",
    "<td>%x</td>\n",
    "<td>전체 날짜</td>\n",
    "<td>07/04/24</td>\n",
    "</tr>\n",
    "<tr>\n",
    "<td>%X</td>\n",
    "<td>전체 시간</td>\n",
    "<td>14:45:08</td>\n",
    "</tr>\n",
    "</tbody>\n",
    "</table>"
   ]
  },
  {
   "cell_type": "code",
   "execution_count": 3,
   "metadata": {},
   "outputs": [
    {
     "name": "stdout",
     "output_type": "stream",
     "text": [
      "input_variables=['question'] input_types={} partial_variables={'format_instructions': \"Write a datetime string that matches the following pattern: '%Y-%m-%d'.\\n\\nExamples: 1304-12-12, 1802-08-03, 0799-03-14\\n\\nReturn ONLY this string, no other words!\"} template='Answer the users question:\\n\\n#Format Instructions: \\n{format_instructions}\\n\\n#Question: \\n{question}\\n\\n#Answer:'\n"
     ]
    }
   ],
   "source": [
    "from langchain.output_parsers import DatetimeOutputParser\n",
    "from langchain.prompts import PromptTemplate\n",
    "from langchain_openai import ChatOpenAI\n",
    "\n",
    "# 날짜 및 시간 출력 파서\n",
    "output_parser = DatetimeOutputParser()\n",
    "output_parser.format = \"%Y-%m-%d\"\n",
    "\n",
    "# 사용자 질문에 대한 답변 템플릿\n",
    "template = \"\"\"Answer the users question:\\n\\n#Format Instructions: \\n{format_instructions}\\n\\n#Question: \\n{question}\\n\\n#Answer:\"\"\"\n",
    "\n",
    "prompt = PromptTemplate.from_template(\n",
    "    template,\n",
    "    partial_variables={\n",
    "        \"format_instructions\": output_parser.get_format_instructions()\n",
    "    },  # 지침을 템플릿에 적용\n",
    ")\n",
    "\n",
    "# 프롬프트 내용을 출력\n",
    "print(prompt)\n"
   ]
  },
  {
   "cell_type": "code",
   "execution_count": 4,
   "metadata": {},
   "outputs": [
    {
     "data": {
      "text/plain": [
       "\"Write a datetime string that matches the following pattern: '%Y-%m-%d'.\\n\\nExamples: 1038-10-06, 1332-01-09, 0473-04-17\\n\\nReturn ONLY this string, no other words!\""
      ]
     },
     "execution_count": 4,
     "metadata": {},
     "output_type": "execute_result"
    }
   ],
   "source": [
    "output_parser.get_format_instructions()"
   ]
  },
  {
   "cell_type": "code",
   "execution_count": 5,
   "metadata": {},
   "outputs": [],
   "source": [
    "llm = ChatOpenAI(temperature=0)\n",
    "# Chain 생성\n",
    "chain = prompt | ChatOpenAI() | output_parser"
   ]
  },
  {
   "cell_type": "code",
   "execution_count": 27,
   "metadata": {},
   "outputs": [
    {
     "data": {
      "text/plain": [
       "datetime.datetime(2022, 1, 28, 0, 0)"
      ]
     },
     "execution_count": 27,
     "metadata": {},
     "output_type": "execute_result"
    }
   ],
   "source": [
    "response = chain.invoke({\"question\": \"What is the date today?\"})\n",
    "response"
   ]
  },
  {
   "cell_type": "code",
   "execution_count": 29,
   "metadata": {},
   "outputs": [
    {
     "data": {
      "text/plain": [
       "'2022-01-28'"
      ]
     },
     "execution_count": 29,
     "metadata": {},
     "output_type": "execute_result"
    }
   ],
   "source": [
    "# 결과를 문자열로 변환\n",
    "response.strftime(\"%Y-%m-%d\")"
   ]
  }
 ],
 "metadata": {
  "kernelspec": {
   "display_name": "vmain",
   "language": "python",
   "name": "python3"
  },
  "language_info": {
   "codemirror_mode": {
    "name": "ipython",
    "version": 3
   },
   "file_extension": ".py",
   "mimetype": "text/x-python",
   "name": "python",
   "nbconvert_exporter": "python",
   "pygments_lexer": "ipython3",
   "version": "3.13.1"
  }
 },
 "nbformat": 4,
 "nbformat_minor": 2
}
