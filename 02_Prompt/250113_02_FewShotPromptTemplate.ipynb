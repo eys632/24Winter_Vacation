{
 "cells": [
  {
   "cell_type": "code",
   "execution_count": 1,
   "metadata": {
    "executionInfo": {
     "elapsed": 545,
     "status": "ok",
     "timestamp": 1736756198521,
     "user": {
      "displayName": "이연승",
      "userId": "15593633151757514600"
     },
     "user_tz": -540
    },
    "id": "5nFnBjPkg9Sr"
   },
   "outputs": [],
   "source": [
    "from dotenv import load_dotenv\n",
    "import os\n",
    "\n",
    "load_dotenv()\n",
    "\n",
    "OPENAI_API_KEY = os.getenv(\"OPENAI_API_KEY\")\n",
    "LANGCHAIN_API_KEY = os.getenv(\"LANGCHAIN_API_KEY\")\n",
    "LANGCHAIN_TRACING_V2 = os.getenv(\"LANGCHAIN_TRACING_V2\")\n",
    "LANGCHAIN_ENDPOINT = os.getenv(\"LANGCHAIN_ENDPOINT\")\n",
    "LANGCHAIN_PROJECT_ID = os.getenv(\"LANGCHAIN_PROJECT_ID\")"
   ]
  },
  {
   "cell_type": "markdown",
   "metadata": {
    "id": "ajB-oQN6X0Tg"
   },
   "source": [
    "# 퓨샷 프롬프트(FewShotPromptTemplate)"
   ]
  },
  {
   "cell_type": "code",
   "execution_count": 2,
   "metadata": {
    "executionInfo": {
     "elapsed": 4606,
     "status": "ok",
     "timestamp": 1736756203125,
     "user": {
      "displayName": "이연승",
      "userId": "15593633151757514600"
     },
     "user_tz": -540
    },
    "id": "AqkLGJaOaU54"
   },
   "outputs": [],
   "source": [
    "from langchain_core.prompts.few_shot import FewShotPromptTemplate\n",
    "from langchain_core.prompts import PromptTemplate\n",
    "\n",
    "examples = [\n",
    "    {\n",
    "        \"question\": \"스티브 잡스와 아인슈타인 중 누가 더 오래 살았나요?\",\n",
    "        \"answer\": \"\"\"이 질문에 추가 질문이 필요한가요: 예.\n",
    "추가 질문: 스티브 잡스는 몇 살에 사망했나요?\n",
    "중간 답변: 스티브 잡스는 56세에 사망했습니다.\n",
    "추가 질문: 아인슈타인은 몇 살에 사망했나요?\n",
    "중간 답변: 아인슈타인은 76세에 사망했습니다.\n",
    "최종 답변은: 아인슈타인\n",
    "\"\"\",\n",
    "    },\n",
    "    {\n",
    "        \"question\": \"네이버의 창립자는 언제 태어났나요?\",\n",
    "        \"answer\": \"\"\"이 질문에 추가 질문이 필요한가요: 예.\n",
    "추가 질문: 네이버의 창립자는 누구인가요?\n",
    "중간 답변: 네이버는 이해진에 의해 창립되었습니다.\n",
    "추가 질문: 이해진은 언제 태어났나요?\n",
    "중간 답변: 이해진은 1967년 6월 22일에 태어났습니다.\n",
    "최종 답변은: 1967년 6월 22일\n",
    "\"\"\",\n",
    "    },\n",
    "    {\n",
    "        \"question\": \"율곡 이이의 어머니가 태어난 해의 통치하던 왕은 누구인가요?\",\n",
    "        \"answer\": \"\"\"이 질문에 추가 질문이 필요한가요: 예.\n",
    "추가 질문: 율곡 이이의 어머니는 누구인가요?\n",
    "중간 답변: 율곡 이이의 어머니는 신사임당입니다.\n",
    "추가 질문: 신사임당은 언제 태어났나요?\n",
    "중간 답변: 신사임당은 1504년에 태어났습니다.\n",
    "추가 질문: 1504년에 조선을 통치한 왕은 누구인가요?\n",
    "중간 답변: 1504년에 조선을 통치한 왕은 연산군입니다.\n",
    "최종 답변은: 연산군\n",
    "\"\"\",\n",
    "    },\n",
    "    {\n",
    "        \"question\": \"올드보이와 기생충의 감독이 같은 나라 출신인가요?\",\n",
    "        \"answer\": \"\"\"이 질문에 추가 질문이 필요한가요: 예.\n",
    "추가 질문: 올드보이의 감독은 누구인가요?\n",
    "중간 답변: 올드보이의 감독은 박찬욱입니다.\n",
    "추가 질문: 박찬욱은 어느 나라 출신인가요?\n",
    "중간 답변: 박찬욱은 대한민국 출신입니다.\n",
    "추가 질문: 기생충의 감독은 누구인가요?\n",
    "중간 답변: 기생충의 감독은 봉준호입니다.\n",
    "추가 질문: 봉준호는 어느 나라 출신인가요?\n",
    "중간 답변: 봉준호는 대한민국 출신입니다.\n",
    "최종 답변은: 예\n",
    "\"\"\",\n",
    "    },\n",
    "]"
   ]
  },
  {
   "cell_type": "code",
   "execution_count": 3,
   "metadata": {
    "colab": {
     "base_uri": "https://localhost:8080/"
    },
    "executionInfo": {
     "elapsed": 684,
     "status": "ok",
     "timestamp": 1736756210258,
     "user": {
      "displayName": "이연승",
      "userId": "15593633151757514600"
     },
     "user_tz": -540
    },
    "id": "s_A82-_agJzS",
    "outputId": "6968ca93-ecbb-4043-eb39-b69936dba6d1"
   },
   "outputs": [
    {
     "data": {
      "text/plain": [
       "[{'question': '스티브 잡스와 아인슈타인 중 누가 더 오래 살았나요?',\n",
       "  'answer': '이 질문에 추가 질문이 필요한가요: 예.\\n추가 질문: 스티브 잡스는 몇 살에 사망했나요?\\n중간 답변: 스티브 잡스는 56세에 사망했습니다.\\n추가 질문: 아인슈타인은 몇 살에 사망했나요?\\n중간 답변: 아인슈타인은 76세에 사망했습니다.\\n최종 답변은: 아인슈타인\\n'},\n",
       " {'question': '네이버의 창립자는 언제 태어났나요?',\n",
       "  'answer': '이 질문에 추가 질문이 필요한가요: 예.\\n추가 질문: 네이버의 창립자는 누구인가요?\\n중간 답변: 네이버는 이해진에 의해 창립되었습니다.\\n추가 질문: 이해진은 언제 태어났나요?\\n중간 답변: 이해진은 1967년 6월 22일에 태어났습니다.\\n최종 답변은: 1967년 6월 22일\\n'},\n",
       " {'question': '율곡 이이의 어머니가 태어난 해의 통치하던 왕은 누구인가요?',\n",
       "  'answer': '이 질문에 추가 질문이 필요한가요: 예.\\n추가 질문: 율곡 이이의 어머니는 누구인가요?\\n중간 답변: 율곡 이이의 어머니는 신사임당입니다.\\n추가 질문: 신사임당은 언제 태어났나요?\\n중간 답변: 신사임당은 1504년에 태어났습니다.\\n추가 질문: 1504년에 조선을 통치한 왕은 누구인가요?\\n중간 답변: 1504년에 조선을 통치한 왕은 연산군입니다.\\n최종 답변은: 연산군\\n'},\n",
       " {'question': '올드보이와 기생충의 감독이 같은 나라 출신인가요?',\n",
       "  'answer': '이 질문에 추가 질문이 필요한가요: 예.\\n추가 질문: 올드보이의 감독은 누구인가요?\\n중간 답변: 올드보이의 감독은 박찬욱입니다.\\n추가 질문: 박찬욱은 어느 나라 출신인가요?\\n중간 답변: 박찬욱은 대한민국 출신입니다.\\n추가 질문: 기생충의 감독은 누구인가요?\\n중간 답변: 기생충의 감독은 봉준호입니다.\\n추가 질문: 봉준호는 어느 나라 출신인가요?\\n중간 답변: 봉준호는 대한민국 출신입니다.\\n최종 답변은: 예\\n'}]"
      ]
     },
     "execution_count": 3,
     "metadata": {},
     "output_type": "execute_result"
    }
   ],
   "source": [
    "examples"
   ]
  },
  {
   "cell_type": "code",
   "execution_count": 4,
   "metadata": {
    "executionInfo": {
     "elapsed": 363,
     "status": "ok",
     "timestamp": 1736756241449,
     "user": {
      "displayName": "이연승",
      "userId": "15593633151757514600"
     },
     "user_tz": -540
    },
    "id": "ToqL-v5ifYbT"
   },
   "outputs": [],
   "source": [
    "example_prompt = PromptTemplate.from_template(\n",
    "    \"Question:\\n{question}\\nAnswer:\\n{answer}\"\n",
    ")"
   ]
  },
  {
   "cell_type": "code",
   "execution_count": 5,
   "metadata": {
    "executionInfo": {
     "elapsed": 353,
     "status": "ok",
     "timestamp": 1736756248107,
     "user": {
      "displayName": "이연승",
      "userId": "15593633151757514600"
     },
     "user_tz": -540
    },
    "id": "s9fnFaqWXsrA"
   },
   "outputs": [],
   "source": [
    "prompt = FewShotPromptTemplate(\n",
    "    examples=examples,\n",
    "    example_prompt=example_prompt,\n",
    "    suffix=\"Question:\\n{question}\\nAnswer:\",\n",
    "    input_variables=[\"question\"],\n",
    ")"
   ]
  },
  {
   "cell_type": "code",
   "execution_count": 6,
   "metadata": {
    "colab": {
     "base_uri": "https://localhost:8080/"
    },
    "executionInfo": {
     "elapsed": 4878,
     "status": "ok",
     "timestamp": 1736756262493,
     "user": {
      "displayName": "이연승",
      "userId": "15593633151757514600"
     },
     "user_tz": -540
    },
    "id": "DAFH7O-td7Rl",
    "outputId": "717c8577-059a-40c9-c950-a77c48007a99"
   },
   "outputs": [
    {
     "name": "stdout",
     "output_type": "stream",
     "text": [
      "\u001b[?25l   \u001b[90m━━━━━━━━━━━━━━━━━━━━━━━━━━━━━━━━━━━━━━━━\u001b[0m \u001b[32m0.0/54.2 kB\u001b[0m \u001b[31m?\u001b[0m eta \u001b[36m-:--:--\u001b[0m\r\u001b[2K   \u001b[90m━━━━━━━━━━━━━━━━━━━━━━━━━━━━━━━━━━━━━━━━\u001b[0m \u001b[32m54.2/54.2 kB\u001b[0m \u001b[31m3.6 MB/s\u001b[0m eta \u001b[36m0:00:00\u001b[0m\n",
      "\u001b[?25h\u001b[?25l   \u001b[90m━━━━━━━━━━━━━━━━━━━━━━━━━━━━━━━━━━━━━━━━\u001b[0m \u001b[32m0.0/1.2 MB\u001b[0m \u001b[31m?\u001b[0m eta \u001b[36m-:--:--\u001b[0m\r\u001b[2K   \u001b[90m━━━━━━━━━━━━━━━━━━━━━━━━━━━━━━━━━━━━━━━━\u001b[0m \u001b[32m1.2/1.2 MB\u001b[0m \u001b[31m35.2 MB/s\u001b[0m eta \u001b[36m0:00:00\u001b[0m\n",
      "\u001b[?25h"
     ]
    }
   ],
   "source": [
    "!pip install -qU langchain_openai"
   ]
  },
  {
   "cell_type": "code",
   "execution_count": 7,
   "metadata": {
    "executionInfo": {
     "elapsed": 2,
     "status": "ok",
     "timestamp": 1736756271873,
     "user": {
      "displayName": "이연승",
      "userId": "15593633151757514600"
     },
     "user_tz": -540
    },
    "id": "r_B3HiHQe-FM"
   },
   "outputs": [],
   "source": [
    "question = \"스티브 잡스와 아인슈타인 중 누가 더 오래 살았나요?\"\n",
    "final_prompt = prompt.format(question=question)"
   ]
  },
  {
   "cell_type": "code",
   "execution_count": 8,
   "metadata": {
    "executionInfo": {
     "elapsed": 2477,
     "status": "ok",
     "timestamp": 1736756287224,
     "user": {
      "displayName": "이연승",
      "userId": "15593633151757514600"
     },
     "user_tz": -540
    },
    "id": "F0p64c8TeF5Q"
   },
   "outputs": [],
   "source": [
    "from langchain_openai import ChatOpenAI\n",
    "llm = ChatOpenAI(\n",
    "    temperature=0,\n",
    "    model_name=\"gpt-4o\",\n",
    ")"
   ]
  },
  {
   "cell_type": "code",
   "execution_count": 9,
   "metadata": {
    "executionInfo": {
     "elapsed": 2767,
     "status": "ok",
     "timestamp": 1736756298636,
     "user": {
      "displayName": "이연승",
      "userId": "15593633151757514600"
     },
     "user_tz": -540
    },
    "id": "G0LmoBnHhbE2"
   },
   "outputs": [],
   "source": [
    "response=llm.invoke(final_prompt)"
   ]
  },
  {
   "cell_type": "code",
   "execution_count": 10,
   "metadata": {
    "executionInfo": {
     "elapsed": 423,
     "status": "ok",
     "timestamp": 1736756306208,
     "user": {
      "displayName": "이연승",
      "userId": "15593633151757514600"
     },
     "user_tz": -540
    },
    "id": "1M-2YlQtiQWe"
   },
   "outputs": [],
   "source": [
    "chain=prompt|llm"
   ]
  },
  {
   "cell_type": "code",
   "execution_count": 11,
   "metadata": {
    "executionInfo": {
     "elapsed": 4975,
     "status": "ok",
     "timestamp": 1736756326898,
     "user": {
      "displayName": "이연승",
      "userId": "15593633151757514600"
     },
     "user_tz": -540
    },
    "id": "kChlTnaUiTol"
   },
   "outputs": [],
   "source": [
    "chain_response=chain.invoke(input={\"question\":\"인공지능과 융합하였을 때 가장 가치있는 한가지 분야는?\"})"
   ]
  },
  {
   "cell_type": "code",
   "execution_count": 12,
   "metadata": {
    "colab": {
     "base_uri": "https://localhost:8080/"
    },
    "executionInfo": {
     "elapsed": 364,
     "status": "ok",
     "timestamp": 1736756333868,
     "user": {
      "displayName": "이연승",
      "userId": "15593633151757514600"
     },
     "user_tz": -540
    },
    "id": "kts0WfccihAw",
    "outputId": "44f2c22c-6636-47e7-bbb1-624119e28ad2"
   },
   "outputs": [
    {
     "data": {
      "text/plain": [
       "AIMessage(content='이 질문에 추가 질문이 필요한가요: 예.\\n추가 질문: 인공지능이 융합할 수 있는 분야에는 어떤 것들이 있나요?\\n중간 답변: 인공지능은 의료, 금융, 제조, 교육, 교통 등 다양한 분야와 융합할 수 있습니다.\\n추가 질문: 각 분야에서 인공지능이 제공할 수 있는 가치는 무엇인가요?\\n중간 답변: 의료 분야에서는 진단과 치료의 정확성을 높이고, 금융 분야에서는 데이터 분석과 예측을 개선하며, 제조 분야에서는 자동화와 효율성을 증대시킬 수 있습니다.\\n추가 질문: 현재 가장 주목받고 있는 인공지능 융합 분야는 무엇인가요?\\n중간 답변: 의료 분야는 인공지능과의 융합으로 인해 진단과 치료의 혁신을 가져오고 있어 많은 주목을 받고 있습니다.\\n최종 답변은: 의료 분야', additional_kwargs={'refusal': None}, response_metadata={'token_usage': {'completion_tokens': 200, 'prompt_tokens': 583, 'total_tokens': 783, 'completion_tokens_details': {'accepted_prediction_tokens': 0, 'audio_tokens': 0, 'reasoning_tokens': 0, 'rejected_prediction_tokens': 0}, 'prompt_tokens_details': {'audio_tokens': 0, 'cached_tokens': 0}}, 'model_name': 'gpt-4o-2024-08-06', 'system_fingerprint': 'fp_b7d65f1a5b', 'finish_reason': 'stop', 'logprobs': None}, id='run-5ac77642-cd57-47e5-8505-b05962eaab50-0', usage_metadata={'input_tokens': 583, 'output_tokens': 200, 'total_tokens': 783, 'input_token_details': {'audio': 0, 'cache_read': 0}, 'output_token_details': {'audio': 0, 'reasoning': 0}})"
      ]
     },
     "execution_count": 12,
     "metadata": {},
     "output_type": "execute_result"
    }
   ],
   "source": [
    "chain_response"
   ]
  }
 ],
 "metadata": {
  "colab": {
   "authorship_tag": "ABX9TyO2hG7tncC45IGPzPkFQMIq",
   "provenance": []
  },
  "kernelspec": {
   "display_name": "Python 3",
   "name": "python3"
  },
  "language_info": {
   "name": "python"
  }
 },
 "nbformat": 4,
 "nbformat_minor": 0
}
