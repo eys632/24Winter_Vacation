{
 "cells": [
  {
   "cell_type": "code",
   "execution_count": 11,
   "metadata": {},
   "outputs": [
    {
     "name": "stdout",
     "output_type": "stream",
     "text": [
      "['c:\\\\Users\\\\eys63\\\\Desktop\\\\기타활동\\\\2024\\\\겨울방학\\\\24Winter_Vacation\\\\25_01_03', 'c:\\\\Users\\\\eys63\\\\anaconda3\\\\python312.zip', 'c:\\\\Users\\\\eys63\\\\anaconda3\\\\DLLs', 'c:\\\\Users\\\\eys63\\\\anaconda3\\\\Lib', 'c:\\\\Users\\\\eys63\\\\anaconda3', '', 'C:\\\\Users\\\\eys63\\\\AppData\\\\Roaming\\\\Python\\\\Python312\\\\site-packages', 'c:\\\\Users\\\\eys63\\\\anaconda3\\\\Lib\\\\site-packages', 'c:\\\\Users\\\\eys63\\\\anaconda3\\\\Lib\\\\site-packages\\\\win32', 'c:\\\\Users\\\\eys63\\\\anaconda3\\\\Lib\\\\site-packages\\\\win32\\\\lib', 'c:\\\\Users\\\\eys63\\\\anaconda3\\\\Lib\\\\site-packages\\\\Pythonwin', 'c:\\\\Users\\\\eys63\\\\anaconda3\\\\Lib\\\\site-packages\\\\setuptools\\\\_vendor']\n"
     ]
    }
   ],
   "source": [
    "import sys\n",
    "print(sys.path)\n"
   ]
  },
  {
   "cell_type": "markdown",
   "metadata": {},
   "source": [
    "https://www.mss.go.kr/site/smba/ex/bbs/List.do?cbIdx=310 의 링크에서 1501번째 글의 첨부파일을 다운받았음. 이것을 활용할 예정임"
   ]
  },
  {
   "cell_type": "code",
   "execution_count": null,
   "metadata": {},
   "outputs": [],
   "source": [
    "# pdf, 라이브러리 불러오기, 텍스트 추출\n",
    "import time\n",
    "from PyPDF2 import PdfReader\n",
    "import fitz  # pymupdf\n",
    "import pdfplumber\n",
    "import pdfminer.high_level\n",
    "import pypdfium2 as pdfium\n",
    "\n",
    "# PDF 파일 경로\n",
    "pdf_path = r\"C:\\Users\\eys63\\Desktop\\기타활동\\2024\\겨울방학\\24Winter_Vacation\\data\\2024년_중소기업_정책자금_융자공고(참고자료).pdf\"\n",
    "\n",
    "# PyPDF2로 텍스트 추출\n",
    "def extract_with_pypdf(path):\n",
    "    reader = PdfReader(path)\n",
    "    return \" \".join([page.extract_text() for page in reader.pages])\n",
    "\n",
    "# PyMuPDF로 텍스트 추출\n",
    "def extract_with_pymupdf(path):\n",
    "    doc = fitz.open(path)\n",
    "    return \" \".join([page.get_text() for page in doc])\n",
    "\n",
    "# PDFPlumber로 텍스트 추출\n",
    "def extract_with_pdfplumber(path):\n",
    "    with pdfplumber.open(path) as pdf:\n",
    "        return \" \".join([page.extract_text() for page in pdf.pages])\n",
    "\n",
    "# PDFMiner로 텍스트 추출\n",
    "def extract_with_pdfminer(path):\n",
    "    return pdfminer.high_level.extract_text(path)\n",
    "\n",
    "# PyPDFium2로 텍스트 추출\n",
    "def extract_with_pypdfium2(path):\n",
    "    pdf = pdfium.PdfDocument(path)\n",
    "    return \" \".join([pdf[page].get_textpage().get_text_range() for page in range(len(pdf))])\n"
   ]
  },
  {
   "cell_type": "code",
   "execution_count": 15,
   "metadata": {},
   "outputs": [],
   "source": [
    "# 텍스트 분할\n",
    "def split_text(text, chunk_size=500):\n",
    "    words = text.split()\n",
    "    return [words[i:i + chunk_size] for i in range(0, len(words), chunk_size)]\n"
   ]
  },
  {
   "cell_type": "code",
   "execution_count": 19,
   "metadata": {},
   "outputs": [],
   "source": [
    "import config\n",
    "import openai\n",
    "\n",
    "# API 키 설정\n",
    "openai.api_key = config.OPENAI_API_KEY\n"
   ]
  }
 ],
 "metadata": {
  "kernelspec": {
   "display_name": "base",
   "language": "python",
   "name": "python3"
  },
  "language_info": {
   "codemirror_mode": {
    "name": "ipython",
    "version": 3
   },
   "file_extension": ".py",
   "mimetype": "text/x-python",
   "name": "python",
   "nbconvert_exporter": "python",
   "pygments_lexer": "ipython3",
   "version": "3.12.4"
  }
 },
 "nbformat": 4,
 "nbformat_minor": 2
}
