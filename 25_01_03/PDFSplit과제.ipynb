{
 "cells": [
  {
   "cell_type": "code",
   "execution_count": 11,
   "metadata": {},
   "outputs": [
    {
     "name": "stdout",
     "output_type": "stream",
     "text": [
      "['c:\\\\Users\\\\eys63\\\\Desktop\\\\기타활동\\\\2024\\\\겨울방학\\\\24Winter_Vacation\\\\25_01_03', 'c:\\\\Users\\\\eys63\\\\anaconda3\\\\python312.zip', 'c:\\\\Users\\\\eys63\\\\anaconda3\\\\DLLs', 'c:\\\\Users\\\\eys63\\\\anaconda3\\\\Lib', 'c:\\\\Users\\\\eys63\\\\anaconda3', '', 'C:\\\\Users\\\\eys63\\\\AppData\\\\Roaming\\\\Python\\\\Python312\\\\site-packages', 'c:\\\\Users\\\\eys63\\\\anaconda3\\\\Lib\\\\site-packages', 'c:\\\\Users\\\\eys63\\\\anaconda3\\\\Lib\\\\site-packages\\\\win32', 'c:\\\\Users\\\\eys63\\\\anaconda3\\\\Lib\\\\site-packages\\\\win32\\\\lib', 'c:\\\\Users\\\\eys63\\\\anaconda3\\\\Lib\\\\site-packages\\\\Pythonwin', 'c:\\\\Users\\\\eys63\\\\anaconda3\\\\Lib\\\\site-packages\\\\setuptools\\\\_vendor']\n"
     ]
    }
   ],
   "source": [
    "import sys\n",
    "print(sys.path)\n"
   ]
  },
  {
   "cell_type": "markdown",
   "metadata": {},
   "source": [
    "https://www.mss.go.kr/site/smba/ex/bbs/List.do?cbIdx=310 의 링크에서 1501번째 글의 첨부파일을 다운받았음. 이것을 활용할 예정임"
   ]
  },
  {
   "cell_type": "code",
   "execution_count": null,
   "metadata": {},
   "outputs": [],
   "source": [
    "# pdf, 라이브러리 불러오기, 텍스트 추출\n",
    "import time\n",
    "from PyPDF2 import PdfReader\n",
    "import fitz  # pymupdf\n",
    "import pdfplumber\n",
    "import pdfminer.high_level\n",
    "import pypdfium2 as pdfium\n",
    "\n",
    "# PDF 파일 경로\n",
    "pdf_path = r\"C:\\Users\\eys63\\Desktop\\기타활동\\2024\\겨울방학\\24Winter_Vacation\\data\\2024년_중소기업_정책자금_융자공고(참고자료).pdf\"\n",
    "\n",
    "# PyPDF2로 텍스트 추출\n",
    "def extract_with_pypdf(path):\n",
    "    reader = PdfReader(path)\n",
    "    return \" \".join([page.extract_text() for page in reader.pages])\n",
    "\n",
    "# PyMuPDF로 텍스트 추출\n",
    "def extract_with_pymupdf(path):\n",
    "    doc = fitz.open(path)\n",
    "    return \" \".join([page.get_text() for page in doc])\n",
    "\n",
    "# PDFPlumber로 텍스트 추출\n",
    "def extract_with_pdfplumber(path):\n",
    "    with pdfplumber.open(path) as pdf:\n",
    "        return \" \".join([page.extract_text() for page in pdf.pages])\n",
    "\n",
    "# PDFMiner로 텍스트 추출\n",
    "def extract_with_pdfminer(path):\n",
    "    return pdfminer.high_level.extract_text(path)\n",
    "\n",
    "# PyPDFium2로 텍스트 추출\n",
    "def extract_with_pypdfium2(path):\n",
    "    pdf = pdfium.PdfDocument(path)\n",
    "    return \" \".join([pdf[page].get_textpage().get_text_range() for page in range(len(pdf))])\n"
   ]
  },
  {
   "cell_type": "code",
   "execution_count": 15,
   "metadata": {},
   "outputs": [],
   "source": [
    "# 텍스트 분할\n",
    "def split_text(text, chunk_size=500):\n",
    "    words = text.split()\n",
    "    return [words[i:i + chunk_size] for i in range(0, len(words), chunk_size)]\n"
   ]
  },
  {
   "cell_type": "code",
   "execution_count": 21,
   "metadata": {},
   "outputs": [],
   "source": [
    "import config\n",
    "import openai\n",
    "\n",
    "# API 키 설정\n",
    "openai.api_key = config.OPENAI_API_KEY\n"
   ]
  },
  {
   "cell_type": "code",
   "execution_count": 22,
   "metadata": {},
   "outputs": [],
   "source": [
    "# OpenAI API를 사용한 평가 함수\n",
    "def evaluate_with_openai(chunk_text):\n",
    "    try:\n",
    "        response = openai.Completion.create(\n",
    "            model=\"gpt-4-mini\",\n",
    "            prompt=f\"Evaluate the following text chunk and provide a score from 0 to 100, along with a brief explanation:\\n\\n{chunk_text}\",\n",
    "            max_tokens=150,\n",
    "            n=1,\n",
    "            stop=None,\n",
    "            temperature=0.5,\n",
    "        )\n",
    "        content = response.choices[0].text.strip()\n",
    "        score_line, explanation = content.split('\\n', 1)\n",
    "        score = int(score_line.split(':')[1].strip())\n",
    "        return {\"score\": score, \"explanation\": explanation.strip()}\n",
    "    except Exception as e:\n",
    "        return {\"error\": str(e)}\n"
   ]
  },
  {
   "cell_type": "code",
   "execution_count": 23,
   "metadata": {},
   "outputs": [
    {
     "ename": "FileNotFoundError",
     "evalue": "[Errno 2] No such file or directory: 'your_pdf_file.pdf'",
     "output_type": "error",
     "traceback": [
      "\u001b[1;31m---------------------------------------------------------------------------\u001b[0m",
      "\u001b[1;31mFileNotFoundError\u001b[0m                         Traceback (most recent call last)",
      "Cell \u001b[1;32mIn[23], line 4\u001b[0m\n\u001b[0;32m      1\u001b[0m \u001b[38;5;66;03m# 평가\u001b[39;00m\n\u001b[0;32m      2\u001b[0m \n\u001b[0;32m      3\u001b[0m \u001b[38;5;66;03m# PDF 텍스트 추출 (예: PyPDF2 사용)\u001b[39;00m\n\u001b[1;32m----> 4\u001b[0m text \u001b[38;5;241m=\u001b[39m extract_with_pypdf(\u001b[38;5;124m\"\u001b[39m\u001b[38;5;124myour_pdf_file.pdf\u001b[39m\u001b[38;5;124m\"\u001b[39m)\n\u001b[0;32m      6\u001b[0m \u001b[38;5;66;03m# 텍스트를 500글자 단위로 나누기\u001b[39;00m\n\u001b[0;32m      7\u001b[0m chunks \u001b[38;5;241m=\u001b[39m split_text_by_chars(text, chunk_size\u001b[38;5;241m=\u001b[39m\u001b[38;5;241m500\u001b[39m)\n",
      "Cell \u001b[1;32mIn[14], line 13\u001b[0m, in \u001b[0;36mextract_with_pypdf\u001b[1;34m(path)\u001b[0m\n\u001b[0;32m     12\u001b[0m \u001b[38;5;28;01mdef\u001b[39;00m \u001b[38;5;21mextract_with_pypdf\u001b[39m(path):\n\u001b[1;32m---> 13\u001b[0m     reader \u001b[38;5;241m=\u001b[39m PdfReader(path)\n\u001b[0;32m     14\u001b[0m     \u001b[38;5;28;01mreturn\u001b[39;00m \u001b[38;5;124m\"\u001b[39m\u001b[38;5;124m \u001b[39m\u001b[38;5;124m\"\u001b[39m\u001b[38;5;241m.\u001b[39mjoin([page\u001b[38;5;241m.\u001b[39mextract_text() \u001b[38;5;28;01mfor\u001b[39;00m page \u001b[38;5;129;01min\u001b[39;00m reader\u001b[38;5;241m.\u001b[39mpages])\n",
      "File \u001b[1;32mc:\\Users\\eys63\\anaconda3\\Lib\\site-packages\\PyPDF2\\_reader.py:317\u001b[0m, in \u001b[0;36mPdfReader.__init__\u001b[1;34m(self, stream, strict, password)\u001b[0m\n\u001b[0;32m    311\u001b[0m     logger_warning(\n\u001b[0;32m    312\u001b[0m         \u001b[38;5;124m\"\u001b[39m\u001b[38;5;124mPdfReader stream/file object is not in binary mode. \u001b[39m\u001b[38;5;124m\"\u001b[39m\n\u001b[0;32m    313\u001b[0m         \u001b[38;5;124m\"\u001b[39m\u001b[38;5;124mIt may not be read correctly.\u001b[39m\u001b[38;5;124m\"\u001b[39m,\n\u001b[0;32m    314\u001b[0m         \u001b[38;5;18m__name__\u001b[39m,\n\u001b[0;32m    315\u001b[0m     )\n\u001b[0;32m    316\u001b[0m \u001b[38;5;28;01mif\u001b[39;00m \u001b[38;5;28misinstance\u001b[39m(stream, (\u001b[38;5;28mstr\u001b[39m, Path)):\n\u001b[1;32m--> 317\u001b[0m     \u001b[38;5;28;01mwith\u001b[39;00m \u001b[38;5;28mopen\u001b[39m(stream, \u001b[38;5;124m\"\u001b[39m\u001b[38;5;124mrb\u001b[39m\u001b[38;5;124m\"\u001b[39m) \u001b[38;5;28;01mas\u001b[39;00m fh:\n\u001b[0;32m    318\u001b[0m         stream \u001b[38;5;241m=\u001b[39m BytesIO(fh\u001b[38;5;241m.\u001b[39mread())\n\u001b[0;32m    319\u001b[0m \u001b[38;5;28mself\u001b[39m\u001b[38;5;241m.\u001b[39mread(stream)\n",
      "\u001b[1;31mFileNotFoundError\u001b[0m: [Errno 2] No such file or directory: 'your_pdf_file.pdf'"
     ]
    }
   ],
   "source": [
    "# 평가\n",
    "\n",
    "# PDF 텍스트 추출 (예: PyPDF2 사용)\n",
    "text = extract_with_pypdf(\"\")\n",
    "\n",
    "# 텍스트를 500글자 단위로 나누기\n",
    "chunks = split_text_by_chars(text, chunk_size=500)\n",
    "\n",
    "# 각 조각 평가\n",
    "results = []\n",
    "for idx, chunk in enumerate(chunks):\n",
    "    evaluation = evaluate_with_openai(chunk)\n",
    "    evaluation[\"chunk_index\"] = idx\n",
    "    results.append(evaluation)\n",
    "\n",
    "# 평가 결과 출력\n",
    "for result in results:\n",
    "    print(f\"Chunk {result['chunk_index']} - Score: {result.get('score', 'Error')} - Explanation: {result.get('explanation', result.get('error'))}\")\n"
   ]
  }
 ],
 "metadata": {
  "kernelspec": {
   "display_name": "base",
   "language": "python",
   "name": "python3"
  },
  "language_info": {
   "codemirror_mode": {
    "name": "ipython",
    "version": 3
   },
   "file_extension": ".py",
   "mimetype": "text/x-python",
   "name": "python",
   "nbconvert_exporter": "python",
   "pygments_lexer": "ipython3",
   "version": "3.12.4"
  }
 },
 "nbformat": 4,
 "nbformat_minor": 2
}
