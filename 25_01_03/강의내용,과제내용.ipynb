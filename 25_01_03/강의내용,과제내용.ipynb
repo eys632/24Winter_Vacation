{
 "cells": [
  {
   "cell_type": "markdown",
   "metadata": {},
   "source": [
    "오전에는 github를 중점적으로 파일 커밋, 푸시하는 것을 익힘. 이제 어느정도 원활하게 다룰 수 있을 정도로 익힌 듯하다."
   ]
  },
  {
   "cell_type": "markdown",
   "metadata": {},
   "source": [
    "오후 내용 : https://www.mss.go.kr/site/smba/ex/bbs/List.do?cbIdx=310 에서 1501번 내용 pdf 받아서 500개씩 나눠서 자르고 각각 나눈것을 gpt에게 어느것이 잘 잘렸는지 점수를 매기라고 하고 그 근거를 설명하라고 하기"
   ]
  }
 ],
 "metadata": {
  "kernelspec": {
   "display_name": "base",
   "language": "python",
   "name": "python3"
  },
  "language_info": {
   "name": "python",
   "version": "3.12.4"
  }
 },
 "nbformat": 4,
 "nbformat_minor": 2
}
