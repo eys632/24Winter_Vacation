{
  "nbformat": 4,
  "nbformat_minor": 0,
  "metadata": {
    "colab": {
      "provenance": []
    },
    "kernelspec": {
      "name": "python3",
      "display_name": "Python 3"
    },
    "language_info": {
      "name": "python"
    }
  },
  "cells": [
    {
      "cell_type": "markdown",
      "source": [
        "# 1. Document"
      ],
      "metadata": {
        "id": "HVTcq9XKNd_f"
      }
    },
    {
      "cell_type": "code",
      "execution_count": null,
      "metadata": {
        "id": "vrvBVmDtKqW-"
      },
      "outputs": [],
      "source": [
        "from langchain_core.documents import Document\n",
        "\n",
        "document = Document(\"안녕하세요? 이건 랭체인의 도큐먼드 입니다\")"
      ]
    },
    {
      "cell_type": "code",
      "source": [
        "document"
      ],
      "metadata": {
        "colab": {
          "base_uri": "https://localhost:8080/"
        },
        "id": "-Gfv87OCL0Ul",
        "outputId": "c81d3c5b-d4e1-453a-d1d9-96ab4addb440"
      },
      "execution_count": null,
      "outputs": [
        {
          "output_type": "execute_result",
          "data": {
            "text/plain": [
              "Document(metadata={}, page_content='안녕하세요? 이건 랭체인의 도큐먼드 입니다')"
            ]
          },
          "metadata": {},
          "execution_count": 2
        }
      ]
    },
    {
      "cell_type": "code",
      "source": [
        "# 도큐먼트의 속성 확인\n",
        "document.__dict__"
      ],
      "metadata": {
        "colab": {
          "base_uri": "https://localhost:8080/"
        },
        "id": "xmitzQM-L_OE",
        "outputId": "62b2179a-d13d-4054-eacd-fe8e05ec5bd0"
      },
      "execution_count": null,
      "outputs": [
        {
          "output_type": "execute_result",
          "data": {
            "text/plain": [
              "{'id': None,\n",
              " 'metadata': {},\n",
              " 'page_content': '안녕하세요? 이건 랭체인의 도큐먼드 입니다',\n",
              " 'type': 'Document'}"
            ]
          },
          "metadata": {},
          "execution_count": 3
        }
      ]
    },
    {
      "cell_type": "code",
      "source": [
        "# 메타데이터 추가\n",
        "document.metadata[\"source\"] = \"TeddyNote\"\n",
        "document.metadata[\"page\"] = 1\n",
        "document.metadata[\"author\"] = \"Teddy\""
      ],
      "metadata": {
        "id": "kNMoiD9XMN7L"
      },
      "execution_count": null,
      "outputs": []
    },
    {
      "cell_type": "code",
      "source": [
        "# 도큐먼트의 속성 확인\n",
        "document.metadata"
      ],
      "metadata": {
        "colab": {
          "base_uri": "https://localhost:8080/"
        },
        "id": "RnJdgd-vMVrV",
        "outputId": "77e66773-c191-475d-ddb4-0e1959e46da6"
      },
      "execution_count": null,
      "outputs": [
        {
          "output_type": "execute_result",
          "data": {
            "text/plain": [
              "{'source': 'TeddyNote', 'page': 1, 'author': 'Teddy'}"
            ]
          },
          "metadata": {},
          "execution_count": 5
        }
      ]
    },
    {
      "cell_type": "code",
      "source": [
        "document.page_content"
      ],
      "metadata": {
        "colab": {
          "base_uri": "https://localhost:8080/",
          "height": 35
        },
        "id": "HAjK5Co_MqPX",
        "outputId": "853a14b7-7457-4ed7-e91b-7bca8a192bb3"
      },
      "execution_count": null,
      "outputs": [
        {
          "output_type": "execute_result",
          "data": {
            "text/plain": [
              "'안녕하세요? 이건 랭체인의 도큐먼드 입니다'"
            ],
            "application/vnd.google.colaboratory.intrinsic+json": {
              "type": "string"
            }
          },
          "metadata": {},
          "execution_count": 6
        }
      ]
    },
    {
      "cell_type": "code",
      "source": [
        "print(document.id)"
      ],
      "metadata": {
        "colab": {
          "base_uri": "https://localhost:8080/"
        },
        "id": "k0u2Hh6oMuG9",
        "outputId": "59cbefe1-ba6b-46aa-872a-3f396cbe7267"
      },
      "execution_count": null,
      "outputs": [
        {
          "output_type": "stream",
          "name": "stdout",
          "text": [
            "None\n"
          ]
        }
      ]
    },
    {
      "cell_type": "markdown",
      "source": [
        "# 2. Document Load Test"
      ],
      "metadata": {
        "id": "5Rh8QhdjNgJX"
      }
    },
    {
      "cell_type": "code",
      "source": [
        "# 예제 파일 경로\n",
        "FILE_PATH = \"/content/Linear Algebra and Its Applications, Global Editio.pdf\""
      ],
      "metadata": {
        "id": "VMWdoY9HNlMc"
      },
      "execution_count": null,
      "outputs": []
    },
    {
      "cell_type": "code",
      "source": [
        "pip install pypdf"
      ],
      "metadata": {
        "colab": {
          "base_uri": "https://localhost:8080/"
        },
        "id": "AspOOFUKNv3m",
        "outputId": "b43a8cec-95fb-44b6-9b0f-f3f8543cd504"
      },
      "execution_count": null,
      "outputs": [
        {
          "output_type": "stream",
          "name": "stdout",
          "text": [
            "Collecting pypdf\n",
            "  Downloading pypdf-5.1.0-py3-none-any.whl.metadata (7.2 kB)\n",
            "Requirement already satisfied: typing_extensions>=4.0 in /usr/local/lib/python3.10/dist-packages (from pypdf) (4.12.2)\n",
            "Downloading pypdf-5.1.0-py3-none-any.whl (297 kB)\n",
            "\u001b[?25l   \u001b[90m━━━━━━━━━━━━━━━━━━━━━━━━━━━━━━━━━━━━━━━━\u001b[0m \u001b[32m0.0/298.0 kB\u001b[0m \u001b[31m?\u001b[0m eta \u001b[36m-:--:--\u001b[0m\r\u001b[2K   \u001b[91m━━━━━━━━━━━━━━━━━━━━━━━━━━━━━━\u001b[0m\u001b[90m╺\u001b[0m\u001b[90m━━━━━━━━━\u001b[0m \u001b[32m225.3/298.0 kB\u001b[0m \u001b[31m5.7 MB/s\u001b[0m eta \u001b[36m0:00:01\u001b[0m\r\u001b[2K   \u001b[90m━━━━━━━━━━━━━━━━━━━━━━━━━━━━━━━━━━━━━━━━\u001b[0m \u001b[32m298.0/298.0 kB\u001b[0m \u001b[31m5.0 MB/s\u001b[0m eta \u001b[36m0:00:00\u001b[0m\n",
            "\u001b[?25hInstalling collected packages: pypdf\n",
            "Successfully installed pypdf-5.1.0\n"
          ]
        }
      ]
    },
    {
      "cell_type": "code",
      "source": [
        "from langchain_community.document_loaders import PyPDFLoader\n",
        "\n",
        "# 로더 설정\n",
        "loader = PyPDFLoader(FILE_PATH)"
      ],
      "metadata": {
        "id": "4U1WySaoNsxN"
      },
      "execution_count": null,
      "outputs": []
    },
    {
      "cell_type": "code",
      "source": [
        "# PDF 로더\n",
        "docs = loader.load()\n",
        "\n",
        "# 로드된 문서의 수 확인\n",
        "len(docs)\n"
      ],
      "metadata": {
        "colab": {
          "base_uri": "https://localhost:8080/"
        },
        "id": "BLUH73fpNusI",
        "outputId": "0c9e888c-4d85-4552-b98b-79ac7fe3d764"
      },
      "execution_count": null,
      "outputs": [
        {
          "output_type": "execute_result",
          "data": {
            "text/plain": [
              "579"
            ]
          },
          "metadata": {},
          "execution_count": 14
        }
      ]
    },
    {
      "cell_type": "code",
      "source": [
        "# 첫번째 문서 확인\n",
        "docs[0]\n"
      ],
      "metadata": {
        "colab": {
          "base_uri": "https://localhost:8080/"
        },
        "id": "h6wHH6ESOjaF",
        "outputId": "abd8176f-bb47-4c4e-a44a-ea7355a449e6"
      },
      "execution_count": null,
      "outputs": [
        {
          "output_type": "execute_result",
          "data": {
            "text/plain": [
              "Document(metadata={'source': '/content/Linear Algebra and Its Applications, Global Editio.pdf', 'page': 0}, page_content='(-0#\"- \\n&%*5*0/\\n-JOFBS\\x01\"MHFCSB\\x01BOE\\x01JUT\\x01\"QQMJDBUJPOT\\n\\'*\\'5)\\x01&%*5*0/\\n%BWJE\\x01$\\x0f\\x01-BZ\\x01r\\x014UFQIFO\\x013\\x0f\\x01-BZ\\x01r\\x01+VEJ\\x01+\\x0f\\x01.D%POBME')"
            ]
          },
          "metadata": {},
          "execution_count": 15
        }
      ]
    },
    {
      "cell_type": "code",
      "source": [
        "from langchain_text_splitters import CharacterTextSplitter\n",
        "\n",
        "# 문열 분할기 설정\n",
        "text_splitter = CharacterTextSplitter(chunk_size=200, chunk_overlap=0)\n",
        "\n",
        "#예제 파일 경로\n",
        "FILE_PATH = \"/content/Linear Algebra and Its Applications, Global Editio.pdf\"\n",
        "\n",
        "# 로더 설정\n",
        "loader = PyPDFLoader(FILE_PATH)\n",
        "\n",
        "# 문서 분할\n",
        "split_docs = loader.load_and_split(text_splitter=text_splitter)\n",
        "\n",
        "# 로드된 문서의 수 확인\n",
        "print(f\"문서의 길이 : {len(split_docs)}\")\n",
        "\n",
        "# 첫번째 문서 확인\n",
        "docs[0]\n"
      ],
      "metadata": {
        "colab": {
          "base_uri": "https://localhost:8080/"
        },
        "id": "Do7TXDEPOmDb",
        "outputId": "a8172a4a-8731-47f9-971e-790d9d1c9042"
      },
      "execution_count": null,
      "outputs": [
        {
          "output_type": "stream",
          "name": "stdout",
          "text": [
            "문서의 길이 : 579\n"
          ]
        },
        {
          "output_type": "execute_result",
          "data": {
            "text/plain": [
              "Document(metadata={'source': '/content/Linear Algebra and Its Applications, Global Editio.pdf', 'page': 0}, page_content='(-0#\"- \\n&%*5*0/\\n-JOFBS\\x01\"MHFCSB\\x01BOE\\x01JUT\\x01\"QQMJDBUJPOT\\n\\'*\\'5)\\x01&%*5*0/\\n%BWJE\\x01$\\x0f\\x01-BZ\\x01r\\x014UFQIFO\\x013\\x0f\\x01-BZ\\x01r\\x01+VEJ\\x01+\\x0f\\x01.D%POBME')"
            ]
          },
          "metadata": {},
          "execution_count": 19
        }
      ]
    }
  ]
}