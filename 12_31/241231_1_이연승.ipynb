{
  "nbformat": 4,
  "nbformat_minor": 0,
  "metadata": {
    "colab": {
      "provenance": []
    },
    "kernelspec": {
      "name": "python3",
      "display_name": "Python 3"
    },
    "language_info": {
      "name": "python"
    }
  },
  "cells": [
    {
      "cell_type": "markdown",
      "source": [
        "# 1. MarkdownHeaderTextSplitter\n",
        "\n",
        "\n",
        "*   마크다운 파일의 구조를 이해하고 효율적으로 다루는 것은 문서 작업에 있어 매우 중요할 수 있습니다. 특히, 문서의 전체적인 맥락과 구조를 고려하여 의미 있는 방식으로 텍스트를 임베딩하는 과정은, 광범위한 의미와 주제를 더 잘 포착할 수 있는 포괄적인 벡터 표현을 생성하는 데 큰 도움이 됩니다.\n",
        "\n",
        "\n",
        "\n",
        "*   이러한 맥락에서, 마크다운 파일의 특정 부분, 즉 헤더별로 내용을 나누고 싶을 때가 있습니다. 예를 들어, 문서 내에서 각각의 헤더 아래에 있는 내용을 기반으로 서로 연관된 정보 덩어리, 즉 '청크'를 만들고 싶은 경우가 그러합니다. 이는 텍스트의 공통된 맥락을 유지하면서도, 문서의 구조적 요소를 효과적으로 활용하려는 시도입니다.\n",
        "\n",
        "*   이런 과제를 해결하기 위해, MarkdownHeaderTextSplitter 라는 도구를 활용할 수 있습니다. 이 도구는 문서를 지정된 헤더 집합에 따라 분할하여, 각 헤더 그룹 아래의 내용을 별도의 청크로 관리할 수 있게 합니다. 이 방법을 통해, 문서의 전반적인 구조를 유지하면서도 내용을 더 세밀하게 다룰 수 있게 되며, 이는 다양한 처리 과정에서 유용하게 활용될 수 있습니다.\n",
        "\n",
        "\n"
      ],
      "metadata": {
        "id": "3vgJBemXdvC3"
      }
    },
    {
      "cell_type": "code",
      "execution_count": 2,
      "metadata": {
        "colab": {
          "base_uri": "https://localhost:8080/"
        },
        "id": "q1mMU1DwdqWO",
        "outputId": "d44c733b-24f3-4c93-866e-09fccfc6fd5a"
      },
      "outputs": [
        {
          "output_type": "stream",
          "name": "stdout",
          "text": [
            "# Foo\n",
            "\n",
            " ## Bar\n",
            "\n",
            "Hi this is Jim  \n",
            "Hi this is Joe\n",
            "\n",
            " ## Baz\n",
            "\n",
            " Hi this is Molly\n"
          ]
        }
      ],
      "source": [
        "from langchain_text_splitters import MarkdownHeaderTextSplitter\n",
        "\n",
        "# 마크다운 형식의 문서를 문자열로 정의합니다.\n",
        "markdown_document = \"# Foo\\n\\n ## Bar\\n\\nHi this is Jim  \\nHi this is Joe\\n\\n ## Baz\\n\\n Hi this is Molly\"\n",
        "print(markdown_document)"
      ]
    },
    {
      "cell_type": "markdown",
      "source": [
        "# Splitter 생성\n"
      ],
      "metadata": {
        "id": "EfjCI-XWfr03"
      }
    },
    {
      "cell_type": "code",
      "source": [
        "headers_to_split_on = [  # 문서를 분할할 헤더 레벨과 해당 레벨의 이름을 정의합니다.\n",
        "    (\n",
        "        \"#\",\n",
        "        \"Header 1\",\n",
        "    ),  # 헤더 레벨 1은 '#'로 표시되며, 'Header 1'이라는 이름을 가집니다.\n",
        "    (\n",
        "        \"##\",\n",
        "        \"Header 2\",\n",
        "    ),  # 헤더 레벨 2는 '##'로 표시되며, 'Header 2'라는 이름을 가집니다.\n",
        "    (\n",
        "        \"###\",\n",
        "        \"Header 3\",\n",
        "    ),  # 헤더 레벨 3은 '###'로 표시되며, 'Header 3'이라는 이름을 가집니다.\n",
        "]\n"
      ],
      "metadata": {
        "id": "phz8AOYAfv2x"
      },
      "execution_count": 4,
      "outputs": []
    },
    {
      "cell_type": "code",
      "source": [
        "# 마크다운 헤더를 기준으로 텍스트를 분할하는 MarkdownHeaderTextSplitter 객체를 생성합니다.\n",
        "markdown_splitter = MarkdownHeaderTextSplitter(headers_to_split_on=headers_to_split_on)"
      ],
      "metadata": {
        "id": "5mRn1MaLgI4n"
      },
      "execution_count": 6,
      "outputs": []
    },
    {
      "cell_type": "code",
      "source": [
        "# markdown_document를 헤더를 기준으로 분할하여 md_header_splits에 저장합니다.\n",
        "md_header_splits = markdown_splitter.split_text(markdown_document)"
      ],
      "metadata": {
        "id": "ZWAHfBevgb7f"
      },
      "execution_count": 7,
      "outputs": []
    },
    {
      "cell_type": "code",
      "source": [
        "# 분할된 결과를 출력합니다.\n",
        "for header in md_header_splits:\n",
        "    print(f\"{header.page_content}\")\n",
        "    print(f\"{header.metadata}\", end=\"\\n=====================\\n\")"
      ],
      "metadata": {
        "colab": {
          "base_uri": "https://localhost:8080/"
        },
        "id": "8XFmg0Jqgd-X",
        "outputId": "e03f924e-f066-411f-b8a7-f90c08f72cb2"
      },
      "execution_count": 8,
      "outputs": [
        {
          "output_type": "stream",
          "name": "stdout",
          "text": [
            "Hi this is Jim\n",
            "Hi this is Joe\n",
            "{'Header 1': 'Foo', 'Header 2': 'Bar'}\n",
            "=====================\n",
            "Hi this is Molly\n",
            "{'Header 1': 'Foo', 'Header 2': 'Baz'}\n",
            "=====================\n"
          ]
        }
      ]
    },
    {
      "cell_type": "code",
      "source": [
        "markdown_splitter = MarkdownHeaderTextSplitter(\n",
        "    # 분할할 헤더를 지정합니다.\n",
        "    headers_to_split_on=headers_to_split_on,\n",
        "    # 헤더를 제거하지 않도록 설정합니다.\n",
        "    strip_headers=False, # True로 하면 헤더 안보임\n",
        ")\n",
        "# 마크다운 문서를 헤더를 기준으로 분할합니다.\n",
        "md_header_splits = markdown_splitter.split_text(markdown_document)\n",
        "# 분할된 결과를 출력합니다.\n",
        "for header in md_header_splits:\n",
        "    print(f\"{header.page_content}\")\n",
        "    print(f\"{header.metadata}\", end=\"\\n=====================\\n\")"
      ],
      "metadata": {
        "colab": {
          "base_uri": "https://localhost:8080/"
        },
        "id": "bLHgLkrJhC2c",
        "outputId": "09a65c8e-e71f-455e-f711-11dd32136d3f"
      },
      "execution_count": 13,
      "outputs": [
        {
          "output_type": "stream",
          "name": "stdout",
          "text": [
            "# Foo  \n",
            "## Bar  \n",
            "Hi this is Jim\n",
            "Hi this is Joe\n",
            "{'Header 1': 'Foo', 'Header 2': 'Bar'}\n",
            "=====================\n",
            "## Baz  \n",
            "Hi this is Molly\n",
            "{'Header 1': 'Foo', 'Header 2': 'Baz'}\n",
            "=====================\n"
          ]
        }
      ]
    }
  ]
}