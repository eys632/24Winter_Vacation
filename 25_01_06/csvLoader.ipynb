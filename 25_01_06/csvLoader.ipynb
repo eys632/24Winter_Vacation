{
 "cells": [
  {
   "cell_type": "markdown",
   "metadata": {},
   "source": [
    "# csv Loader"
   ]
  },
  {
   "cell_type": "code",
   "execution_count": 2,
   "metadata": {},
   "outputs": [
    {
     "name": "stderr",
     "output_type": "stream",
     "text": [
      "WARNING: Skipping C:\\Users\\eys63\\anaconda3\\Lib\\site-packages\\tensorflow_intel-2.18.0.dist-info due to invalid metadata entry 'name'\n",
      "WARNING: Skipping C:\\Users\\eys63\\anaconda3\\Lib\\site-packages\\tensorflow_intel-2.18.0.dist-info due to invalid metadata entry 'name'\n"
     ]
    }
   ],
   "source": [
    "!pip install -qU langchain"
   ]
  },
  {
   "cell_type": "code",
   "execution_count": 3,
   "metadata": {},
   "outputs": [
    {
     "name": "stdout",
     "output_type": "stream",
     "text": [
      "891\n",
      "{'source': 'C:\\\\Users\\\\eys63\\\\Desktop\\\\기타활동\\\\2024\\\\겨울방학\\\\24Winter_Vacation\\\\data\\\\titanic.csv', 'row': 0}\n"
     ]
    }
   ],
   "source": [
    "from langchain_community.document_loaders.csv_loader import CSVLoader\n",
    "\n",
    "# CSV 로더 생성\n",
    "loader = CSVLoader(file_path=r\"C:\\Users\\eys63\\Desktop\\기타활동\\2024\\겨울방학\\24Winter_Vacation\\data\\titanic.csv\")\n",
    "\n",
    "# 데이터 로드\n",
    "docs = loader.load()\n",
    "\n",
    "print(len(docs))\n",
    "print(docs[0].metadata)\n"
   ]
  },
  {
   "cell_type": "code",
   "execution_count": 4,
   "metadata": {},
   "outputs": [
    {
     "name": "stdout",
     "output_type": "stream",
     "text": [
      "PassengerId: 1\n",
      "Survived: 0\n",
      "Pclass: 3\n",
      "Name: Braund, Mr. Owen Harris\n",
      "Sex: male\n",
      "Age: 22\n",
      "SibSp: 1\n",
      "Parch: 0\n",
      "Ticket: A/5 21171\n",
      "Fare: 7.25\n",
      "Cabin: \n",
      "Embarked: S\n"
     ]
    }
   ],
   "source": [
    "print(docs[0].page_content)  "
   ]
  },
  {
   "cell_type": "code",
   "execution_count": 10,
   "metadata": {},
   "outputs": [
    {
     "name": "stdout",
     "output_type": "stream",
     "text": [
      "Passenger ID: 1\n",
      "Survival (1: Survived, 0: Died): 0\n",
      "Passenger Class: 3\n",
      "Name: Braund, Mr. Owen Harris\n",
      "Sex: male\n",
      "Age: 22\n",
      "Number of Siblings/Spouses Aboard: 1\n",
      "Number of Parents/Children Aboard: 0\n",
      "Ticket Number: A/5 21171\n",
      "Fare: 7.25\n",
      "Cabin: \n",
      "Port of Embarkation: S\n"
     ]
    }
   ],
   "source": [
    "# 컬럼정보:\n",
    "# PassengerId,Survived,Pclass,Name,Sex,Age,SibSp,Parch,Ticket,Fare,Cabin,Embarked\n",
    "\n",
    "# CSV 파일 경로\n",
    "loader = CSVLoader(\n",
    "    file_path=r\"C:\\Users\\eys63\\Desktop\\기타활동\\2024\\겨울방학\\24Winter_Vacation\\data\\titanic.csv\",\n",
    "    csv_args={\n",
    "        \"delimiter\": \",\",  # 구분자, 탭으로 나누어진 파일의 경우 '\\t'\n",
    "        \"quotechar\": '\"',  # 인용 부호 문자\n",
    "        \"fieldnames\": [\n",
    "            \"Passenger ID\",\n",
    "            \"Survival (1: Survived, 0: Died)\",\n",
    "            \"Passenger Class\",\n",
    "            \"Name\",\n",
    "            \"Sex\",\n",
    "            \"Age\",\n",
    "            \"Number of Siblings/Spouses Aboard\",\n",
    "            \"Number of Parents/Children Aboard\",\n",
    "            \"Ticket Number\",\n",
    "            \"Fare\",\n",
    "            \"Cabin\",\n",
    "            \"Port of Embarkation\",\n",
    "        ],  # 필드 이름\n",
    "    },\n",
    ")\n",
    "\n",
    "# 데이터 로드\n",
    "docs = loader.load()\n",
    "\n",
    "# 데이터 출력\n",
    "print(docs[1].page_content)"
   ]
  },
  {
   "cell_type": "markdown",
   "metadata": {},
   "source": [
    "## Contents, Metadata"
   ]
  },
  {
   "cell_type": "code",
   "execution_count": 9,
   "metadata": {},
   "outputs": [
    {
     "data": {
      "text/plain": [
       "{'source': 'C:\\\\Users\\\\eys63\\\\Desktop\\\\기타활동\\\\2024\\\\겨울방학\\\\24Winter_Vacation\\\\data\\\\titanic.csv',\n",
       " 'row': 0}"
      ]
     },
     "execution_count": 9,
     "metadata": {},
     "output_type": "execute_result"
    }
   ],
   "source": [
    "docs[0].metadata"
   ]
  },
  {
   "cell_type": "code",
   "execution_count": 8,
   "metadata": {},
   "outputs": [
    {
     "data": {
      "text/plain": [
       "'PassengerId: 1\\nSurvived: 0\\nPclass: 3\\nName: Braund, Mr. Owen Harris\\nSex: male\\nAge: 22\\nSibSp: 1\\nParch: 0\\nTicket: A/5 21171\\nFare: 7.25\\nCabin: \\nEmbarked: S'"
      ]
     },
     "execution_count": 8,
     "metadata": {},
     "output_type": "execute_result"
    }
   ],
   "source": [
    "docs[0].page_content"
   ]
  },
  {
   "cell_type": "markdown",
   "metadata": {},
   "source": [
    "## Export as XML"
   ]
  },
  {
   "cell_type": "code",
   "execution_count": 14,
   "metadata": {},
   "outputs": [
    {
     "name": "stdout",
     "output_type": "stream",
     "text": [
      "<row><Passenger ID>PassengerId<Passenger ID><Survival (1: Survived, 0: Died)>Survived<Survival (1: Survived, 0: Died)><Passenger Class>Pclass<Passenger Class><Name>Name<Name><Sex>Sex<Sex><Age>Age<Age><Number of Siblings/Spouses Aboard>SibSp<Number of Siblings/Spouses Aboard><Number of Parents/Children Aboard>Parch<Number of Parents/Children Aboard><Ticket Number>Ticket<Ticket Number><Fare>Fare<Fare><Cabin>Cabin<Cabin><Port of Embarkation>Embarked<Port of Embarkation></row>\n"
     ]
    }
   ],
   "source": [
    "row = docs[0].page_content.split(\"\\n\")\n",
    "row_str = \"<row>\"\n",
    "for element in row:\n",
    "    splitted_element = element.split(\":\")\n",
    "    value = splitted_element[-1]\n",
    "    col = \":\".join(splitted_element[:-1])\n",
    "    row_str += f\"<{col}>{value.strip()}<{col}>\"\n",
    "row_str += \"</row>\"\n",
    "print(row_str)"
   ]
  },
  {
   "cell_type": "markdown",
   "metadata": {},
   "source": [
    "## UnstructuredCSVLoader"
   ]
  },
  {
   "cell_type": "code",
   "execution_count": 16,
   "metadata": {},
   "outputs": [
    {
     "name": "stderr",
     "output_type": "stream",
     "text": [
      "WARNING: Skipping C:\\Users\\eys63\\anaconda3\\Lib\\site-packages\\tensorflow_intel-2.18.0.dist-info due to invalid metadata entry 'name'\n",
      "WARNING: Skipping C:\\Users\\eys63\\anaconda3\\Lib\\site-packages\\tensorflow_intel-2.18.0.dist-info due to invalid metadata entry 'name'\n",
      "  WARNING: Failed to remove contents in a temporary directory 'C:\\Users\\eys63\\anaconda3\\Lib\\site-packages\\~ydantic_core'.\n",
      "  You can safely remove it manually.\n",
      "WARNING: Skipping C:\\Users\\eys63\\anaconda3\\Lib\\site-packages\\tensorflow_intel-2.18.0.dist-info due to invalid metadata entry 'name'\n",
      "WARNING: Skipping C:\\Users\\eys63\\anaconda3\\Lib\\site-packages\\tensorflow_intel-2.18.0.dist-info due to invalid metadata entry 'name'\n"
     ]
    }
   ],
   "source": [
    "!pip install -qU unstructured"
   ]
  },
  {
   "cell_type": "code",
   "execution_count": 20,
   "metadata": {},
   "outputs": [
    {
     "name": "stdout",
     "output_type": "stream",
     "text": [
      "<table><tr><td>PassengerId</td><td>Survived</td><td>Pclass</td><td>Name</td><td>Sex</td><td>Age</td><td>SibSp</td><td>Parch</td><td>Ticket</td><td>Fare</td><td>Cabin</td><td>Embarked</td></tr><tr><td>1</td><td>0</td><td>3</td><td>Braund, Mr. Owen Harris</td><td>male</td><td>22</td><td>1</td><td>0</td><td>A/5 21171</td><td>7.25</td><td/><td>S</td></tr><tr><td>2</td><td>1</td><td>1</td><td>Cumings, Mrs. John Bradley (Florence Briggs Thayer)</td><td>female</td><td>38</td><td>1</td><td>0</td><td>PC 17599</td><td>71.2833</td><td>C85</td><td>C</td></tr><tr><td>3</td><td>1</td><td>3</td><td>Heikkinen, Miss. Laina</td><td>female</td><td>26</td><td>0</td><td>0</td><td>STON/O2. 3101282</td><td>7.925</td><td/><td>S</td></tr><tr><td>4</td><td>1</td><td>1</td><td>Futrelle, Mrs. Jacques Heath (Lily May Peel)</td><td>female</td><td>35</td><td>1</td><td>0</td><td>113803</td><td>53.1</td><td>C123</td><td>S</td></tr><tr><td>5</td><td>0</td><td>3</td><td>Allen, Mr. William Henry</td><td>male</td><td>35</\n"
     ]
    }
   ],
   "source": [
    "from langchain_community.document_loaders.csv_loader import UnstructuredCSVLoader\n",
    "\n",
    "# 비구조화 CSV 로더 인스턴스 생성\n",
    "loader = UnstructuredCSVLoader(file_path=r\"C:\\Users\\eys63\\Desktop\\기타활동\\2024\\겨울방학\\24Winter_Vacation\\data\\titanic.csv\", mode=\"elements\")\n",
    "\n",
    "# 문서 로드\n",
    "docs = loader.load()\n",
    "\n",
    "# 첫 번째 문서의 HTML 텍스트 메타데이터 출력\n",
    "print(docs[0].metadata[\"text_as_html\"][:1000])\n"
   ]
  }
 ],
 "metadata": {
  "kernelspec": {
   "display_name": "base",
   "language": "python",
   "name": "python3"
  },
  "language_info": {
   "codemirror_mode": {
    "name": "ipython",
    "version": 3
   },
   "file_extension": ".py",
   "mimetype": "text/x-python",
   "name": "python",
   "nbconvert_exporter": "python",
   "pygments_lexer": "ipython3",
   "version": "3.12.4"
  }
 },
 "nbformat": 4,
 "nbformat_minor": 2
}
